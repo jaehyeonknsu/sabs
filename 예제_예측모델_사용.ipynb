{
 "cells": [
  {
   "cell_type": "code",
   "execution_count": 1,
   "metadata": {},
   "outputs": [
    {
     "name": "stdout",
     "output_type": "stream",
     "text": [
      "1/1 [==============================] - 0s 94ms/step\n"
     ]
    }
   ],
   "source": [
    "import tkinter as tk\n",
    "from tkinter import simpledialog, messagebox\n",
    "import tensorflow as tf\n",
    "import numpy as np\n",
    "\n",
    "# 모델 로드\n",
    "model = tf.keras.models.load_model(\"predic_model.keras\")\n",
    "\n",
    "def predict_admission():\n",
    "    while True:\n",
    "        # 초기화\n",
    "        gre = None\n",
    "        gpa = None\n",
    "        rank = None\n",
    "\n",
    "        # 입력 다이얼로그\n",
    "        gre = float(simpledialog.askstring(\"입력\", \"GRE 점수를 입력하세요: \"))\n",
    "        gpa = float(simpledialog.askstring(\"입력\", \"GPA를 입력하세요: \"))\n",
    "        rank = int(simpledialog.askstring(\"입력\", \"대학 진학 순위를 입력하세요 (1부터 4까지): \"))\n",
    "\n",
    "        # 표준점수로 변환\n",
    "        st_gre = (gre - 594.3294) / 118.9283\n",
    "        st_gpa = (gpa - 3.382929) / 0.396013\n",
    "        st_rank = (rank - 2.48) / 0.94928\n",
    "\n",
    "        # 입력 데이터를 모델이 기대하는 형식으로 변환\n",
    "        input_data = np.array([[st_gre, st_gpa, st_rank]])\n",
    "\n",
    "        # 모델을 사용하여 예측\n",
    "        prediction = model.predict(input_data)\n",
    "\n",
    "        # 합격 확률 계산\n",
    "        fail_probability = prediction[0][0]\n",
    "        pass_probability = 1 - fail_probability\n",
    "\n",
    "        # 예측 결과 출력\n",
    "        if fail_probability < 0.5:\n",
    "            message = f\"합격 확률: {pass_probability * 100:.1f}%\\n\\n\" \\\n",
    "                      f\"GRE {gre} 점 그리고 GPA {gpa} 점은 RANK: {rank} 등급의 대학에 합격입니다.\"\n",
    "        else:\n",
    "            message = f\"합격 확률: {pass_probability * 100:.1f}%\\n\\n\" \\\n",
    "                      f\"GRE {gre} 점 그리고 GPA {gpa} 점은 RANK: {rank} 등급의 대학에 불합격입니다.\"\n",
    "\n",
    "        # 메시지박스 출력\n",
    "        choice = messagebox.askyesno(\"결과\", message)\n",
    "\n",
    "        if not choice:\n",
    "            break\n",
    "\n",
    "# Tkinter 윈도우 생성\n",
    "root = tk.Tk()\n",
    "root.withdraw()  # Tkinter 윈도우를 숨김\n",
    "\n",
    "# 입력 다이얼로그 및 예측 결과 출력\n",
    "predict_admission()"
   ]
  }
 ],
 "metadata": {
  "kernelspec": {
   "display_name": "Python 3",
   "language": "python",
   "name": "python3"
  },
  "language_info": {
   "codemirror_mode": {
    "name": "ipython",
    "version": 3
   },
   "file_extension": ".py",
   "mimetype": "text/x-python",
   "name": "python",
   "nbconvert_exporter": "python",
   "pygments_lexer": "ipython3",
   "version": "3.11.2"
  },
  "orig_nbformat": 4
 },
 "nbformat": 4,
 "nbformat_minor": 2
}
